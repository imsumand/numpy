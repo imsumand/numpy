{
  "nbformat": 4,
  "nbformat_minor": 0,
  "metadata": {
    "colab": {
      "name": "Suman Das - Linspace.ipynb",
      "provenance": []
    },
    "kernelspec": {
      "name": "python3",
      "display_name": "Python 3"
    }
  },
  "cells": [
    {
      "cell_type": "code",
      "metadata": {
        "id": "Foc-KZD83QLG",
        "colab_type": "code",
        "colab": {}
      },
      "source": [
        "import numpy as np\n",
        "def replication():\n",
        "    lb= float(input(\"enter the lower value: \"))\n",
        "    ub= float(input(\"enter the upper value: \"))\n",
        "    dif= float(input(\"enter the number of values generated within lower & upper value\"))\n",
        "    b=ub-lb\n",
        "    d=dif-1\n",
        "    c=b/d\n",
        "    i=0\n",
        "    a=[]\n",
        "    while(1):\n",
        "        if(lb<=ub):\n",
        "            i=i+1\n",
        "            a.insert(i,lb)\n",
        "        else:\n",
        "            break\n",
        "        val=lb+c\n",
        "        lb=val\n",
        "    print(a)"
      ],
      "execution_count": 0,
      "outputs": []
    },
    {
      "cell_type": "code",
      "metadata": {
        "id": "rNTODHsX3ezg",
        "colab_type": "code",
        "outputId": "1b02e927-1833-41e5-d075-0f4f1c6d5f6a",
        "colab": {
          "base_uri": "https://localhost:8080/",
          "height": 84
        }
      },
      "source": [
        "replication()"
      ],
      "execution_count": 0,
      "outputs": [
        {
          "output_type": "stream",
          "text": [
            "enter the lower value: 1\n",
            "enter the upper value: 10\n",
            "enter the number of values generated within lower & upper value9\n",
            "[1.0, 2.125, 3.25, 4.375, 5.5, 6.625, 7.75, 8.875, 10.0]\n"
          ],
          "name": "stdout"
        }
      ]
    },
    {
      "cell_type": "code",
      "metadata": {
        "id": "M2uJiN-03lRy",
        "colab_type": "code",
        "colab": {}
      },
      "source": [
        ""
      ],
      "execution_count": 0,
      "outputs": []
    }
  ]
}